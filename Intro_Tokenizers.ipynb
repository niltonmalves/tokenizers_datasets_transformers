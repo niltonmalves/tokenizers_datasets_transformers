{
  "nbformat": 4,
  "nbformat_minor": 0,
  "metadata": {
    "colab": {
      "name": "Intro_Tokenizers.ipynb",
      "provenance": [],
      "collapsed_sections": [],
      "authorship_tag": "ABX9TyOOwYu576665afYZ9TD/3Jt",
      "include_colab_link": true
    },
    "kernelspec": {
      "name": "python3",
      "display_name": "Python 3"
    },
    "language_info": {
      "name": "python"
    },
    "accelerator": "GPU"
  },
  "cells": [
    {
      "cell_type": "markdown",
      "metadata": {
        "id": "view-in-github",
        "colab_type": "text"
      },
      "source": [
        "<a href=\"https://colab.research.google.com/github/niltonmalves/tokenizers_datasets_transformers/blob/main/Intro_Tokenizers.ipynb\" target=\"_parent\"><img src=\"https://colab.research.google.com/assets/colab-badge.svg\" alt=\"Open In Colab\"/></a>"
      ]
    },
    {
      "cell_type": "markdown",
      "source": [
        "https://huggingface.co/docs/transformers/preprocessing"
      ],
      "metadata": {
        "id": "CfOoSWQaiOIN"
      }
    },
    {
      "cell_type": "markdown",
      "source": [
        "https://huggingface.co/docs/tokenizers/python/latest/quicktour.html\n",
        "\n",
        "Quicktour \\\n",
        "**Build a tokenizer from scratch**"
      ],
      "metadata": {
        "id": "5RE8aSIebvlg"
      }
    },
    {
      "cell_type": "code",
      "source": [
        "!wget https://s3.amazonaws.com/research.metamind.io/wikitext/wikitext-103-raw-v1.zip\n",
        "!unzip wikitext-103-raw-v1.zip"
      ],
      "metadata": {
        "colab": {
          "base_uri": "https://localhost:8080/"
        },
        "id": "WCRseJCtbxTN",
        "outputId": "e055a9c5-70ff-4e17-f57d-3630d62ec3dd"
      },
      "execution_count": 1,
      "outputs": [
        {
          "output_type": "stream",
          "name": "stdout",
          "text": [
            "--2022-03-29 18:14:50--  https://s3.amazonaws.com/research.metamind.io/wikitext/wikitext-103-raw-v1.zip\n",
            "Resolving s3.amazonaws.com (s3.amazonaws.com)... 3.5.1.157\n",
            "Connecting to s3.amazonaws.com (s3.amazonaws.com)|3.5.1.157|:443... connected.\n",
            "HTTP request sent, awaiting response... 200 OK\n",
            "Length: 191984949 (183M) [application/zip]\n",
            "Saving to: ‘wikitext-103-raw-v1.zip’\n",
            "\n",
            "wikitext-103-raw-v1 100%[===================>] 183.09M  50.5MB/s    in 5.2s    \n",
            "\n",
            "2022-03-29 18:14:55 (35.0 MB/s) - ‘wikitext-103-raw-v1.zip’ saved [191984949/191984949]\n",
            "\n",
            "Archive:  wikitext-103-raw-v1.zip\n",
            "   creating: wikitext-103-raw/\n",
            "  inflating: wikitext-103-raw/wiki.test.raw  \n",
            "  inflating: wikitext-103-raw/wiki.valid.raw  \n",
            "  inflating: wikitext-103-raw/wiki.train.raw  \n"
          ]
        }
      ]
    },
    {
      "cell_type": "markdown",
      "source": [
        "**Training the tokenizer** \\\n",
        "In this tour, we will build and train [a Byte-Pair Encoding (BPE) tokenizer](https://towardsdatascience.com/byte-pair-encoding-subword-based-tokenization-algorithm-77828a70bee0#:~:text=%F0%9F%8F%83-,Byte%2DPair%20Encoding%20(BPE),Data%20Compression%E2%80%9D%20published%20in%201994.). For more information about the different type of tokenizers, check out this [guide](https://huggingface.co/transformers/tokenizer_summary.html) in the 🤗 Transformers documentation. Here, training the tokenizer means it will learn merge rules by:\n",
        "\n",
        "\n",
        "\n",
        "*   Start with all the characters present in the training corpus as tokens.\n",
        "*  Identify the most common pair of tokens and merge it into one token.\n",
        "*   Repeat until the vocabulary (e.g., the number of tokens) has reached the size we want.\n",
        "\n",
        "\n",
        "The main API of the library is the class Tokenizer, here is how we instantiate one with a BPE model:"
      ],
      "metadata": {
        "id": "_FtWFi4AcRu1"
      }
    },
    {
      "cell_type": "code",
      "source": [
        "!pip install tokenizers"
      ],
      "metadata": {
        "colab": {
          "base_uri": "https://localhost:8080/"
        },
        "id": "Aq81QIz2cnhd",
        "outputId": "19a0bf07-406e-4d04-96ab-3048014ddc03"
      },
      "execution_count": 2,
      "outputs": [
        {
          "output_type": "stream",
          "name": "stdout",
          "text": [
            "Collecting tokenizers\n",
            "  Downloading tokenizers-0.11.6-cp37-cp37m-manylinux_2_12_x86_64.manylinux2010_x86_64.whl (6.5 MB)\n",
            "\u001b[K     |████████████████████████████████| 6.5 MB 5.2 MB/s \n",
            "\u001b[?25hInstalling collected packages: tokenizers\n",
            "Successfully installed tokenizers-0.11.6\n"
          ]
        }
      ]
    },
    {
      "cell_type": "code",
      "source": [
        "#The main API of the library is the class Tokenizer, here is how we instantiate one with a BPE model:\n",
        "from tokenizers import Tokenizer\n",
        "from tokenizers.models import BPE\n",
        "\n",
        "tokenizer = Tokenizer(BPE(unk_token=\"[UNK]\"))\n",
        "tokenizer"
      ],
      "metadata": {
        "id": "cbmuL41hcm_I",
        "colab": {
          "base_uri": "https://localhost:8080/"
        },
        "outputId": "e08f5193-2338-4d7e-b5ff-80e8252b3554"
      },
      "execution_count": 3,
      "outputs": [
        {
          "output_type": "execute_result",
          "data": {
            "text/plain": [
              "<tokenizers.Tokenizer at 0x55d35da98a00>"
            ]
          },
          "metadata": {},
          "execution_count": 3
        }
      ]
    },
    {
      "cell_type": "code",
      "source": [
        "#To train our tokenizer on the wikitext files, we will need to instantiate a trainer, in this case a BpeTrainer\n",
        "from tokenizers.trainers import BpeTrainer\n",
        "\n",
        "trainer = BpeTrainer(special_tokens=[\"[UNK]\", \"[CLS]\", \"[SEP]\", \"[PAD]\", \"[MASK]\"])\n",
        "\n",
        "\"\"\"\n",
        "We can set the training arguments like vocab_size or min_frequency (here left at their default values of 30,000 and 0) \\\n",
        "but the most important part is to give the special_tokens we plan to use later on (they are not used at all during training)\\\n",
        "so that they get inserted in the vocabulary.\n",
        "\n",
        "Note:\n",
        "The order in which you write the special tokens list matters: here \"[UNK]\" will get the ID 0, \"[CLS]\" will get the ID 1 and so forth.\n",
        "\"\"\""
      ],
      "metadata": {
        "colab": {
          "base_uri": "https://localhost:8080/",
          "height": 73
        },
        "id": "ES1dxhpZcsRh",
        "outputId": "495385d5-b345-43bc-819d-17ef2c03325a"
      },
      "execution_count": 4,
      "outputs": [
        {
          "output_type": "execute_result",
          "data": {
            "text/plain": [
              "'\\nWe can set the training arguments like vocab_size or min_frequency (here left at their default values of 30,000 and 0) but the most important part is to give the special_tokens we plan to use later on (they are not used at all during training)so that they get inserted in the vocabulary.\\n\\nNote:\\nThe order in which you write the special tokens list matters: here \"[UNK]\" will get the ID 0, \"[CLS]\" will get the ID 1 and so forth.\\n'"
            ],
            "application/vnd.google.colaboratory.intrinsic+json": {
              "type": "string"
            }
          },
          "metadata": {},
          "execution_count": 4
        }
      ]
    },
    {
      "cell_type": "markdown",
      "source": [
        "CLS == classifier \\\n",
        "SEP == separator"
      ],
      "metadata": {
        "id": "S0fcdH0JifJH"
      }
    },
    {
      "cell_type": "markdown",
      "source": [
        "We could train our tokenizer right now, but it wouldn’t be optimal. Without a pre-tokenizer that will split our inputs into words, we might get tokens that overlap several words: for instance we could get an \"it is\" token since those two words often appear next to each other. Using a pre-tokenizer will ensure no token is bigger than a word returned by the pre-tokenizer. Here we want to train a subword BPE tokenizer, and we will use the easiest pre-tokenizer possible by splitting on whitespace."
      ],
      "metadata": {
        "id": "DzX7dQe6jh8E"
      }
    },
    {
      "cell_type": "code",
      "source": [
        "from tokenizers.pre_tokenizers import Whitespace\n",
        "\n",
        "tokenizer.pre_tokenizer = Whitespace()"
      ],
      "metadata": {
        "id": "1cgGFW_LjjFB"
      },
      "execution_count": 5,
      "outputs": []
    },
    {
      "cell_type": "code",
      "source": [
        "!ls"
      ],
      "metadata": {
        "colab": {
          "base_uri": "https://localhost:8080/"
        },
        "id": "RjEPgzvjjvHa",
        "outputId": "c315dbd9-60d8-428e-a28c-d8cbdc1a14f2"
      },
      "execution_count": 6,
      "outputs": [
        {
          "output_type": "stream",
          "name": "stdout",
          "text": [
            "sample_data  wikitext-103-raw  wikitext-103-raw-v1.zip\n"
          ]
        }
      ]
    },
    {
      "cell_type": "code",
      "source": [
        "#Now, we can just call the train() method with any list of files we want to use:\n",
        "files = [f\"./wikitext-103-raw/wiki.{split}.raw\" for split in [\"test\", \"train\", \"valid\"]]\n",
        "files\n"
      ],
      "metadata": {
        "id": "QM7X9dCpjlBv",
        "colab": {
          "base_uri": "https://localhost:8080/"
        },
        "outputId": "697336cc-0ccb-436c-e34c-06d69213b681"
      },
      "execution_count": 7,
      "outputs": [
        {
          "output_type": "execute_result",
          "data": {
            "text/plain": [
              "['./wikitext-103-raw/wiki.test.raw',\n",
              " './wikitext-103-raw/wiki.train.raw',\n",
              " './wikitext-103-raw/wiki.valid.raw']"
            ]
          },
          "metadata": {},
          "execution_count": 7
        }
      ]
    },
    {
      "cell_type": "code",
      "source": [
        "tokenizer.train(files, trainer)"
      ],
      "metadata": {
        "id": "wikq6iSe4qQ7"
      },
      "execution_count": 8,
      "outputs": []
    },
    {
      "cell_type": "markdown",
      "source": [
        "This should only take a few seconds to train our tokenizer on the full wikitext dataset! To save the tokenizer in one file that contains all its configuration and vocabulary, just use the save() method:"
      ],
      "metadata": {
        "id": "DEPysJMUkqGG"
      }
    },
    {
      "cell_type": "code",
      "source": [
        "tokenizer.save(\"./tokenizer-wiki.json\")"
      ],
      "metadata": {
        "id": "ml99BjdEkrRz"
      },
      "execution_count": 9,
      "outputs": []
    },
    {
      "cell_type": "code",
      "source": [
        "tokenizer = Tokenizer.from_file(\"./tokenizer-wiki.json\")"
      ],
      "metadata": {
        "id": "6yy2MOW3k24p"
      },
      "execution_count": 10,
      "outputs": []
    },
    {
      "cell_type": "markdown",
      "source": [
        "#Using the *tokenizer*"
      ],
      "metadata": {
        "id": "0zjiI50plGqU"
      }
    },
    {
      "cell_type": "code",
      "source": [
        "output = tokenizer.encode(\"Hello, y'all! How are you 😁 ?\")"
      ],
      "metadata": {
        "id": "TAaVT_R_lJZZ"
      },
      "execution_count": 11,
      "outputs": []
    },
    {
      "cell_type": "code",
      "source": [
        "print(output.tokens)"
      ],
      "metadata": {
        "colab": {
          "base_uri": "https://localhost:8080/"
        },
        "id": "R4gy5BThlNHj",
        "outputId": "789931ed-c5b2-453c-d49d-a0595263837b"
      },
      "execution_count": 12,
      "outputs": [
        {
          "output_type": "stream",
          "name": "stdout",
          "text": [
            "['Hello', ',', 'y', \"'\", 'all', '!', 'How', 'are', 'you', '[UNK]', '?']\n"
          ]
        }
      ]
    },
    {
      "cell_type": "code",
      "source": [
        "print(output.ids)"
      ],
      "metadata": {
        "colab": {
          "base_uri": "https://localhost:8080/"
        },
        "id": "RZ7ZyxgwlQAZ",
        "outputId": "27b089da-8d6e-4bda-bdf5-856c9aeebf9b"
      },
      "execution_count": 13,
      "outputs": [
        {
          "output_type": "stream",
          "name": "stdout",
          "text": [
            "[27253, 16, 93, 11, 5097, 5, 7961, 5112, 6218, 0, 35]\n"
          ]
        }
      ]
    },
    {
      "cell_type": "markdown",
      "source": [
        "An important feature of the 🤗 Tokenizers library is that it comes with full alignment tracking, meaning you can always get the part of your original sentence that corresponds to a given token. Those are stored in the offsets attribute of our Encoding object. For instance, let’s assume we would want to find back what caused the \"[UNK]\" token to appear, which is the token at index 9 in the list, we can just ask for the offset at the index:"
      ],
      "metadata": {
        "id": "cGdy4hb0mxpW"
      }
    },
    {
      "cell_type": "code",
      "source": [
        "print(output.offsets[9])\n",
        "# (26, 27)"
      ],
      "metadata": {
        "colab": {
          "base_uri": "https://localhost:8080/"
        },
        "id": "YI8EggtYmzIU",
        "outputId": "d01b1795-1d97-40fd-aff5-84ab372d6da5"
      },
      "execution_count": 14,
      "outputs": [
        {
          "output_type": "stream",
          "name": "stdout",
          "text": [
            "(26, 27)\n"
          ]
        }
      ]
    },
    {
      "cell_type": "code",
      "source": [
        "sentence = \"Hello, y'all! How are you 😁 ?\"\n",
        "sentence[26:27]\n",
        "# \"😁\""
      ],
      "metadata": {
        "colab": {
          "base_uri": "https://localhost:8080/",
          "height": 36
        },
        "id": "AzUek-06m01Z",
        "outputId": "089aa947-4493-4d5c-ded5-b78b3fd1b172"
      },
      "execution_count": 15,
      "outputs": [
        {
          "output_type": "execute_result",
          "data": {
            "text/plain": [
              "'😁'"
            ],
            "application/vnd.google.colaboratory.intrinsic+json": {
              "type": "string"
            }
          },
          "metadata": {},
          "execution_count": 15
        }
      ]
    },
    {
      "cell_type": "markdown",
      "source": [
        "#Post-processing"
      ],
      "metadata": {
        "id": "KC0wnoU_nAnR"
      }
    },
    {
      "cell_type": "markdown",
      "source": [
        "We might want our tokenizer to automatically add special tokens, like \"[CLS]\" or \"[SEP]\". To do this, we use a post-processor. TemplateProcessing is the most commonly used, you just have to specify a template for the processing of single sentences and pairs of sentences, along with the special tokens and their IDs.\n",
        "\n",
        "When we built our tokenizer, we set \"[CLS]\" and \"[SEP]\" in positions 1 and 2 of our list of special tokens, so this should be their IDs. To double-check, we can use the token_to_id() method:"
      ],
      "metadata": {
        "id": "QnMuAZzCnDOm"
      }
    },
    {
      "cell_type": "code",
      "source": [
        "tokenizer.token_to_id(\"[SEP]\")\n",
        "# 2"
      ],
      "metadata": {
        "colab": {
          "base_uri": "https://localhost:8080/"
        },
        "id": "WD-g6nP8nDw7",
        "outputId": "7b34479f-7c9c-4c14-a52f-2d400ce899e7"
      },
      "execution_count": 16,
      "outputs": [
        {
          "output_type": "execute_result",
          "data": {
            "text/plain": [
              "2"
            ]
          },
          "metadata": {},
          "execution_count": 16
        }
      ]
    },
    {
      "cell_type": "markdown",
      "source": [
        "Here is how we can set the post-processing to give us the traditional BERT inputs:"
      ],
      "metadata": {
        "id": "I0QN1NCxnI8v"
      }
    },
    {
      "cell_type": "code",
      "source": [
        "from tokenizers.processors import TemplateProcessing\n",
        "\n",
        "tokenizer.post_processor = TemplateProcessing(\n",
        "    single=\"[CLS] $A [SEP]\",\n",
        "    pair=\"[CLS] $A [SEP] $B:1 [SEP]:1\",\n",
        "    special_tokens=[\n",
        "        (\"[CLS]\", tokenizer.token_to_id(\"[CLS]\")),\n",
        "        (\"[SEP]\", tokenizer.token_to_id(\"[SEP]\")),\n",
        "    ],\n",
        ")"
      ],
      "metadata": {
        "id": "zWK5FoU_nJVG"
      },
      "execution_count": 17,
      "outputs": []
    },
    {
      "cell_type": "markdown",
      "source": [
        "Let’s go over this snippet of code in more details. First we specify the template for single sentences: those should have the form  \n",
        "```[CLS] $A [SEP] ```\n",
        " where $A represents our sentence.\n",
        "\n",
        "Then, we specify the template for sentence pairs, which should have the form ```[CLS] $A [SEP] $B [SEP]``` where ```$A ``` represents the first sentence and ```$B ``` the second one. The ```:1 ``` added in the template represent the type IDs we want for each part of our input: it defaults to 0 for everything (which is why we don’t have ```$A:0 ``` ) and here we set it to 1 for the tokens of the second sentence and the last ```[SEP]``` token.\n",
        "\n",
        "Lastly, we specify the special tokens we used and their IDs in our tokenizer’s vocabulary.\n",
        "\n",
        "To check out this worked properly, let’s try to encode the same sentence as before:\n"
      ],
      "metadata": {
        "id": "QEuCptNfnNZG"
      }
    },
    {
      "cell_type": "code",
      "source": [
        "output = tokenizer.encode(\"Hello, y'all! How are you 😁 ?\")\n",
        "print(output.tokens)\n",
        "# [\"[CLS]\", \"Hello\", \",\", \"y\", \"'\", \"all\", \"!\", \"How\", \"are\", \"you\", \"[UNK]\", \"?\", \"[SEP]\"]"
      ],
      "metadata": {
        "colab": {
          "base_uri": "https://localhost:8080/"
        },
        "id": "a0ODI87mnOC9",
        "outputId": "05e9cfd0-7e20-442a-c7c9-7d1079c3be4f"
      },
      "execution_count": 18,
      "outputs": [
        {
          "output_type": "stream",
          "name": "stdout",
          "text": [
            "['[CLS]', 'Hello', ',', 'y', \"'\", 'all', '!', 'How', 'are', 'you', '[UNK]', '?', '[SEP]']\n"
          ]
        }
      ]
    },
    {
      "cell_type": "code",
      "source": [
        "output = tokenizer.encode(\"Hello, y'all!\", \"How are you 😁 ?\")\n",
        "print(output.tokens)\n",
        "# [\"[CLS]\", \"Hello\", \",\", \"y\", \"'\", \"all\", \"!\", \"[SEP]\", \"How\", \"are\", \"you\", \"[UNK]\", \"?\", \"[SEP]\"]"
      ],
      "metadata": {
        "colab": {
          "base_uri": "https://localhost:8080/"
        },
        "id": "rzNJLNxsokIp",
        "outputId": "513d0785-3385-4fd9-f8b4-eb0e71e335b6"
      },
      "execution_count": 19,
      "outputs": [
        {
          "output_type": "stream",
          "name": "stdout",
          "text": [
            "['[CLS]', 'Hello', ',', 'y', \"'\", 'all', '!', '[SEP]', 'How', 'are', 'you', '[UNK]', '?', '[SEP]']\n"
          ]
        }
      ]
    },
    {
      "cell_type": "code",
      "source": [
        ""
      ],
      "metadata": {
        "id": "UpoUIVjWoyel"
      },
      "execution_count": 19,
      "outputs": []
    },
    {
      "cell_type": "code",
      "source": [
        "print(output.type_ids)\n",
        "# [0, 0, 0, 0, 0, 0, 0, 0, 1, 1, 1, 1, 1, 1]"
      ],
      "metadata": {
        "colab": {
          "base_uri": "https://localhost:8080/"
        },
        "id": "3wictq4pomiX",
        "outputId": "adf344d9-7c67-405a-ea3f-ec867c9ec274"
      },
      "execution_count": 20,
      "outputs": [
        {
          "output_type": "stream",
          "name": "stdout",
          "text": [
            "[0, 0, 0, 0, 0, 0, 0, 0, 1, 1, 1, 1, 1, 1]\n"
          ]
        }
      ]
    },
    {
      "cell_type": "code",
      "source": [
        "#If you save your tokenizer with save(), the post-processor will be saved along.\n",
        "tokenizer.save('out.json')"
      ],
      "metadata": {
        "id": "QnWZoPnBoobm"
      },
      "execution_count": 21,
      "outputs": []
    },
    {
      "cell_type": "markdown",
      "source": [
        "#Encoding multiple sentences in a batch"
      ],
      "metadata": {
        "id": "f3pDHDsXpljk"
      }
    },
    {
      "cell_type": "markdown",
      "source": [
        "To get the full speed of the 🤗 Tokenizers library, it’s best to process your texts by batches by using the encode_batch() method:"
      ],
      "metadata": {
        "id": "HIX1wZ3Pppu3"
      }
    },
    {
      "cell_type": "code",
      "source": [
        "output = tokenizer.encode_batch([\"Hello, y'all!\", \"How are you 😁 ?\"])"
      ],
      "metadata": {
        "id": "lpIDMxkOpmNs"
      },
      "execution_count": 22,
      "outputs": []
    },
    {
      "cell_type": "markdown",
      "source": [
        "The output is then a list of Encoding objects like the ones we saw before. You can process together as many texts as you like, **as long as it fits in memory**."
      ],
      "metadata": {
        "id": "lta7GwQnqKMK"
      }
    },
    {
      "cell_type": "code",
      "source": [
        "output"
      ],
      "metadata": {
        "colab": {
          "base_uri": "https://localhost:8080/"
        },
        "id": "-tc59V1NpuUo",
        "outputId": "4facea80-4746-4f71-92ad-40f77941d8fb"
      },
      "execution_count": 23,
      "outputs": [
        {
          "output_type": "execute_result",
          "data": {
            "text/plain": [
              "[Encoding(num_tokens=8, attributes=[ids, type_ids, tokens, offsets, attention_mask, special_tokens_mask, overflowing]),\n",
              " Encoding(num_tokens=7, attributes=[ids, type_ids, tokens, offsets, attention_mask, special_tokens_mask, overflowing])]"
            ]
          },
          "metadata": {},
          "execution_count": 23
        }
      ]
    },
    {
      "cell_type": "markdown",
      "source": [
        "To process a batch of sentences pairs, pass two lists to the encode_batch() method: the list of sentences A and the list of sentences B:"
      ],
      "metadata": {
        "id": "6CkfibMCqVTM"
      }
    },
    {
      "cell_type": "code",
      "source": [
        "output = tokenizer.encode_batch(\n",
        "    [[\"Hello, y'all!\", \"How are you 😁 ?\"], [\"Hello to you too!\", \"I'm fine, thank you!\"]]\n",
        ")\n",
        "output"
      ],
      "metadata": {
        "colab": {
          "base_uri": "https://localhost:8080/"
        },
        "id": "mfd00Zrzp24E",
        "outputId": "cec65a21-9513-4dc4-9601-56c32270514f"
      },
      "execution_count": 24,
      "outputs": [
        {
          "output_type": "execute_result",
          "data": {
            "text/plain": [
              "[Encoding(num_tokens=14, attributes=[ids, type_ids, tokens, offsets, attention_mask, special_tokens_mask, overflowing]),\n",
              " Encoding(num_tokens=16, attributes=[ids, type_ids, tokens, offsets, attention_mask, special_tokens_mask, overflowing])]"
            ]
          },
          "metadata": {},
          "execution_count": 24
        }
      ]
    },
    {
      "cell_type": "markdown",
      "source": [
        "When encoding multiple sentences, you can automatically pad the outputs to the longest sentence present by using enable_padding(), with the pad_token and its ID (which we can double-check the id for the padding token with token_to_id() like before):"
      ],
      "metadata": {
        "id": "WBGUBmXRqxgM"
      }
    },
    {
      "cell_type": "code",
      "source": [
        "tokenizer.enable_padding(pad_id=3, pad_token=\"[PAD]\")"
      ],
      "metadata": {
        "id": "YONnJm9sqYof"
      },
      "execution_count": 25,
      "outputs": []
    },
    {
      "cell_type": "code",
      "source": [
        "tokenizer.token_to_id(\"[PAD]\")"
      ],
      "metadata": {
        "colab": {
          "base_uri": "https://localhost:8080/"
        },
        "id": "sbpLWXO2rGMu",
        "outputId": "e7a8f404-a1e3-4f72-ef93-3900c8df1b71"
      },
      "execution_count": 26,
      "outputs": [
        {
          "output_type": "execute_result",
          "data": {
            "text/plain": [
              "3"
            ]
          },
          "metadata": {},
          "execution_count": 26
        }
      ]
    },
    {
      "cell_type": "code",
      "source": [
        "output = tokenizer.encode_batch([\"Hello, y'all!\", \"How are you 😁 ?\"])\n",
        "print(output[1].tokens)\n",
        "# [\"[CLS]\", \"How\", \"are\", \"you\", \"[UNK]\", \"?\", \"[SEP]\", \"[PAD]\"]"
      ],
      "metadata": {
        "colab": {
          "base_uri": "https://localhost:8080/"
        },
        "id": "g7LsVackqz3L",
        "outputId": "17ba63c9-f256-4ebb-a7c0-aec8db0c7ecc"
      },
      "execution_count": 27,
      "outputs": [
        {
          "output_type": "stream",
          "name": "stdout",
          "text": [
            "['[CLS]', 'How', 'are', 'you', '[UNK]', '?', '[SEP]', '[PAD]']\n"
          ]
        }
      ]
    },
    {
      "cell_type": "code",
      "source": [
        "print(output[1].attention_mask)\n",
        "# [1, 1, 1, 1, 1, 1, 1, 0]"
      ],
      "metadata": {
        "colab": {
          "base_uri": "https://localhost:8080/"
        },
        "id": "AdIWgynnrdi-",
        "outputId": "1bf36ada-3454-4bf6-afd6-af702241b74a"
      },
      "execution_count": 28,
      "outputs": [
        {
          "output_type": "stream",
          "name": "stdout",
          "text": [
            "[1, 1, 1, 1, 1, 1, 1, 0]\n"
          ]
        }
      ]
    },
    {
      "cell_type": "code",
      "source": [
        ""
      ],
      "metadata": {
        "id": "tLxwBzq0ru3X"
      },
      "execution_count": 28,
      "outputs": []
    },
    {
      "cell_type": "markdown",
      "source": [
        "# Using a pretrained tokenizer"
      ],
      "metadata": {
        "id": "nZ9EzWrqrwbH"
      }
    },
    {
      "cell_type": "markdown",
      "source": [
        "You can load any tokenizer from the Hugging Face Hub as long as a tokenizer.json file is available in the repository."
      ],
      "metadata": {
        "id": "5DdlFN07r4LN"
      }
    },
    {
      "cell_type": "code",
      "source": [
        "from tokenizers import Tokenizer\n",
        "\n",
        "tokenizer = Tokenizer.from_pretrained(\"bert-base-uncased\")"
      ],
      "metadata": {
        "id": "huclJgrPr0t7"
      },
      "execution_count": 29,
      "outputs": []
    },
    {
      "cell_type": "markdown",
      "source": [
        "#  Importing a pretrained tokenizer from legacy vocabulary files"
      ],
      "metadata": {
        "id": "nYovRr4XsKZM"
      }
    },
    {
      "cell_type": "markdown",
      "source": [
        "You can also import a pretrained tokenizer directly in, as long as you have its vocabulary file. For instance, here is how to import the classic pretrained BERT tokenizer:"
      ],
      "metadata": {
        "id": "3mlSz8ngsiHt"
      }
    },
    {
      "cell_type": "code",
      "source": [
        "!wget https://s3.amazonaws.com/models.huggingface.co/bert/bert-base-uncased-vocab.txt"
      ],
      "metadata": {
        "colab": {
          "base_uri": "https://localhost:8080/"
        },
        "id": "4Q5MhFkzs55c",
        "outputId": "cb779b4e-24ee-4f02-8567-6f96c8e0f114"
      },
      "execution_count": 30,
      "outputs": [
        {
          "output_type": "stream",
          "name": "stdout",
          "text": [
            "--2022-03-29 18:17:12--  https://s3.amazonaws.com/models.huggingface.co/bert/bert-base-uncased-vocab.txt\n",
            "Resolving s3.amazonaws.com (s3.amazonaws.com)... 52.216.139.157\n",
            "Connecting to s3.amazonaws.com (s3.amazonaws.com)|52.216.139.157|:443... connected.\n",
            "HTTP request sent, awaiting response... 200 OK\n",
            "Length: 231508 (226K) [text/plain]\n",
            "Saving to: ‘bert-base-uncased-vocab.txt’\n",
            "\n",
            "bert-base-uncased-v 100%[===================>] 226.08K  --.-KB/s    in 0.09s   \n",
            "\n",
            "2022-03-29 18:17:12 (2.56 MB/s) - ‘bert-base-uncased-vocab.txt’ saved [231508/231508]\n",
            "\n"
          ]
        }
      ]
    },
    {
      "cell_type": "code",
      "source": [
        "from tokenizers import BertWordPieceTokenizer\n",
        "\n",
        "tokenizer = BertWordPieceTokenizer(\"bert-base-uncased-vocab.txt\", lowercase=True)"
      ],
      "metadata": {
        "id": "Jw0C4dcNsUe_"
      },
      "execution_count": 31,
      "outputs": []
    }
  ]
}